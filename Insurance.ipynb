{
  "nbformat": 4,
  "nbformat_minor": 0,
  "metadata": {
    "colab": {
      "provenance": []
    },
    "kernelspec": {
      "name": "python3",
      "display_name": "Python 3"
    },
    "language_info": {
      "name": "python"
    }
  },
  "cells": [
    {
      "cell_type": "markdown",
      "source": [
        "## **In this project, we have to perform analytics operations on an insurance database that uses the below mentioned parameters.**\n",
        "\n",
        "\n",
        "| Parameter |Description| Content type |\n",
        "|---|----|---|\n",
        "|age| Age in years| integer |\n",
        "|gender| Male or Female|integer (1 or 2)|\n",
        "| bmi | Body mass index | float |\n",
        "|no_of_children| Number of children | integer|\n",
        "|smoker| Whether smoker or not | integer (0 or 1)|\n",
        "|region| Which US region - NW, NE, SW, SE | integer (1,2,3 or 4 respectively)|\n",
        "|charges| Annual Insurance charges in USD | float|"
      ],
      "metadata": {
        "id": "zoaRdDa6WvR3"
      }
    },
    {
      "cell_type": "markdown",
      "source": [
        "## **Importing Required Libraries**\n"
      ],
      "metadata": {
        "id": "F7MZM9QeTT0b"
      }
    },
    {
      "cell_type": "code",
      "execution_count": null,
      "metadata": {
        "id": "sORp1tprS_pi"
      },
      "outputs": [],
      "source": [
        "import warnings\n",
        "warnings.filterwarnings(\"ignore\")\n",
        "\n",
        "import pandas as pd\n",
        "import matplotlib.pyplot as plt\n",
        "import numpy as np\n",
        "import seaborn as sns\n",
        "from sklearn.pipeline import Pipeline\n",
        "from sklearn.preprocessing import StandardScaler, PolynomialFeatures\n",
        "from sklearn.linear_model import LinearRegression, Ridge\n",
        "from sklearn.metrics import mean_squared_error, r2_score\n",
        "from sklearn.model_selection import cross_val_score, train_test_split"
      ]
    },
    {
      "cell_type": "markdown",
      "source": [
        "# **Import the dataset**"
      ],
      "metadata": {
        "id": "JOUawdpFTiL7"
      }
    },
    {
      "cell_type": "markdown",
      "source": [],
      "metadata": {
        "id": "J0vZaRGkTTRa"
      }
    },
    {
      "cell_type": "code",
      "source": [
        "filepath = 'https://cf-courses-data.s3.us.cloud-object-storage.appdomain.cloud/IBMDeveloperSkillsNetwork-DA0101EN-Coursera/medical_insurance_dataset.csv'\n",
        "df = pd.read_csv(filepath, header=None)"
      ],
      "metadata": {
        "id": "-JEQRMw8TQg4"
      },
      "execution_count": null,
      "outputs": []
    },
    {
      "cell_type": "code",
      "source": [
        "df = pd.read_csv(filepath, header=None)\n",
        "print(df.head(10))"
      ],
      "metadata": {
        "colab": {
          "base_uri": "https://localhost:8080/"
        },
        "id": "m3f_DnFJUtYd",
        "outputId": "6b4b4e74-5c67-4cca-a621-859be41b578d"
      },
      "execution_count": null,
      "outputs": [
        {
          "output_type": "stream",
          "name": "stdout",
          "text": [
            "    0  1       2  3  4  5            6\n",
            "0  19  1  27.900  0  1  3  16884.92400\n",
            "1  18  2  33.770  1  0  4   1725.55230\n",
            "2  28  2  33.000  3  0  4   4449.46200\n",
            "3  33  2  22.705  0  0  1  21984.47061\n",
            "4  32  2  28.880  0  0  1   3866.85520\n",
            "5  31  1  25.740  0  ?  4   3756.62160\n",
            "6  46  1  33.440  1  0  4   8240.58960\n",
            "7  37  1  27.740  3  0  1   7281.50560\n",
            "8  37  2  29.830  2  0  2   6406.41070\n",
            "9  60  1  25.840  0  0  1  28923.13692\n"
          ]
        }
      ]
    },
    {
      "cell_type": "code",
      "source": [
        "#Add the headers to the dataframe\n",
        "headers = [\"age\", \"gender\", \"bmi\", \"no_of_children\", \"smoker\", \"region\", \"charges\"]\n",
        "df.columns = headers"
      ],
      "metadata": {
        "id": "Wth7JUM3UtNL"
      },
      "execution_count": null,
      "outputs": []
    },
    {
      "cell_type": "code",
      "source": [
        "df.replace('?', np.nan, inplace=True) # replace the '?' entries with 'NaN' values."
      ],
      "metadata": {
        "id": "X71KF9wgUtA5"
      },
      "execution_count": null,
      "outputs": []
    },
    {
      "cell_type": "markdown",
      "source": [
        "# **Data Wrangling**"
      ],
      "metadata": {
        "id": "3DBQGzgsTZZm"
      }
    },
    {
      "cell_type": "code",
      "source": [
        "# identify the columns that have some 'Null' (or NaN) information\n",
        "print(df.info())"
      ],
      "metadata": {
        "colab": {
          "base_uri": "https://localhost:8080/"
        },
        "id": "55-pf1XCU261",
        "outputId": "f1e0b839-05a3-491b-b3ae-c2dcab23bcd9"
      },
      "execution_count": null,
      "outputs": [
        {
          "output_type": "stream",
          "name": "stdout",
          "text": [
            "<class 'pandas.core.frame.DataFrame'>\n",
            "RangeIndex: 2772 entries, 0 to 2771\n",
            "Data columns (total 7 columns):\n",
            " #   Column          Non-Null Count  Dtype  \n",
            "---  ------          --------------  -----  \n",
            " 0   age             2768 non-null   object \n",
            " 1   gender          2772 non-null   int64  \n",
            " 2   bmi             2772 non-null   float64\n",
            " 3   no_of_children  2772 non-null   int64  \n",
            " 4   smoker          2765 non-null   object \n",
            " 5   region          2772 non-null   int64  \n",
            " 6   charges         2772 non-null   float64\n",
            "dtypes: float64(2), int64(3), object(2)\n",
            "memory usage: 151.7+ KB\n",
            "None\n"
          ]
        }
      ]
    },
    {
      "cell_type": "markdown",
      "source": [
        "## ***Handle missing data:***\n",
        "\n",
        "- For continuous attributes (e.g., age), replace missing values with the mean.\n",
        "- For categorical attributes (e.g., smoker), replace missing values with the - most frequent value.\n",
        "- Updating the data types of the respective columns.\n",
        "- Verifying the update using `df.info()`."
      ],
      "metadata": {
        "id": "sGZrBVYbXr1r"
      }
    },
    {
      "cell_type": "code",
      "source": [
        "# smoker is a categorical attribute, replace with most frequent entry\n",
        "is_smoker = df['smoker'].value_counts().idxmax()\n",
        "df[\"smoker\"].replace(np.nan, is_smoker, inplace=True)\n",
        "\n",
        "# age is a continuous variable, replace with mean age\n",
        "mean_age = df['age'].astype('float').mean(axis=0)\n",
        "df[\"age\"].replace(np.nan, mean_age, inplace=True)\n",
        "\n",
        "# Update data types\n",
        "df[[\"age\",\"smoker\"]] = df[[\"age\",\"smoker\"]].astype(\"int\")\n",
        "\n",
        "print(df.info())"
      ],
      "metadata": {
        "colab": {
          "base_uri": "https://localhost:8080/"
        },
        "id": "cmZsrNo0TZsz",
        "outputId": "26f14116-494a-4013-e203-def1d948f00e"
      },
      "execution_count": null,
      "outputs": [
        {
          "output_type": "stream",
          "name": "stdout",
          "text": [
            "<class 'pandas.core.frame.DataFrame'>\n",
            "RangeIndex: 2772 entries, 0 to 2771\n",
            "Data columns (total 7 columns):\n",
            " #   Column          Non-Null Count  Dtype  \n",
            "---  ------          --------------  -----  \n",
            " 0   age             2772 non-null   int64  \n",
            " 1   gender          2772 non-null   int64  \n",
            " 2   bmi             2772 non-null   float64\n",
            " 3   no_of_children  2772 non-null   int64  \n",
            " 4   smoker          2772 non-null   int64  \n",
            " 5   region          2772 non-null   int64  \n",
            " 6   charges         2772 non-null   float64\n",
            "dtypes: float64(2), int64(5)\n",
            "memory usage: 151.7 KB\n",
            "None\n"
          ]
        }
      ]
    },
    {
      "cell_type": "markdown",
      "source": [
        "Also note, that the `charges` column has values which are more than 2 decimal places long. Update the `charges` column such that all values are rounded to nearest 2 decimal places. Verify conversion by printing the first 5 values of the updated dataframe.\n"
      ],
      "metadata": {
        "id": "GkDpwYZ9UReI"
      }
    },
    {
      "cell_type": "code",
      "source": [
        "df[[\"charges\"]] = np.round(df[[\"charges\"]],2)\n",
        "print(df.head())"
      ],
      "metadata": {
        "colab": {
          "base_uri": "https://localhost:8080/"
        },
        "id": "VI4qNhKpUQJR",
        "outputId": "61e67c62-a730-458d-cd25-7704b55d95b9"
      },
      "execution_count": null,
      "outputs": [
        {
          "output_type": "stream",
          "name": "stdout",
          "text": [
            "   age  gender     bmi  no_of_children  smoker  region   charges\n",
            "0   19       1  27.900               0       1       3  16884.92\n",
            "1   18       2  33.770               1       0       4   1725.55\n",
            "2   28       2  33.000               3       0       4   4449.46\n",
            "3   33       2  22.705               0       0       1  21984.47\n",
            "4   32       2  28.880               0       0       1   3866.86\n"
          ]
        }
      ]
    },
    {
      "cell_type": "markdown",
      "source": [
        "# **Exploratory Data Analysis (EDA)**\n",
        "\n",
        "Implement the regression plot for `charges` with respect to `bmi`."
      ],
      "metadata": {
        "id": "7hf9Y92AUSHE"
      }
    },
    {
      "cell_type": "code",
      "source": [
        "sns.regplot(x=\"bmi\", y=\"charges\", data=df, line_kws={\"color\": \"red\"})\n",
        "plt.ylim(0,)"
      ],
      "metadata": {
        "colab": {
          "base_uri": "https://localhost:8080/",
          "height": 466
        },
        "id": "i7_pHeDYUSn8",
        "outputId": "d5d23d40-ca63-4be8-d844-2216540358f5"
      },
      "execution_count": null,
      "outputs": [
        {
          "output_type": "execute_result",
          "data": {
            "text/plain": [
              "(0.0, 66902.85800000001)"
            ]
          },
          "metadata": {},
          "execution_count": 19
        },
        {
          "output_type": "display_data",
          "data": {
            "text/plain": [
              "<Figure size 640x480 with 1 Axes>"
            ],
            "image/png": "[encoded data removed]"
          },
          "metadata": {}
        }
      ]
    },
    {
      "cell_type": "markdown",
      "source": [
        "Implement the box plot for `charges` with respect to `smoker`."
      ],
      "metadata": {
        "id": "ZKXFdSARbkHg"
      }
    },
    {
      "cell_type": "code",
      "source": [
        "# box plot for charges with respect to smoker.\n",
        "sns.boxplot(x=\"smoker\", y=\"charges\", data=df)"
      ],
      "metadata": {
        "colab": {
          "base_uri": "https://localhost:8080/",
          "height": 466
        },
        "id": "FozKian8UgUD",
        "outputId": "90d7a7e3-5189-4a9d-e244-954f99befcc1"
      },
      "execution_count": null,
      "outputs": [
        {
          "output_type": "execute_result",
          "data": {
            "text/plain": [
              "<Axes: xlabel='smoker', ylabel='charges'>"
            ]
          },
          "metadata": {},
          "execution_count": 20
        },
        {
          "output_type": "display_data",
          "data": {
            "text/plain": [
              "<Figure size 640x480 with 1 Axes>"
            ],
            "image/png": "[encoded data removed]"
          },
          "metadata": {}
        }
      ]
    },
    {
      "cell_type": "code",
      "source": [
        "# Print the correlation matrix for the dataset.\n",
        "print(df.corr())"
      ],
      "metadata": {
        "colab": {
          "base_uri": "https://localhost:8080/"
        },
        "id": "j2EMQ0fcUkX6",
        "outputId": "5eae45e7-7085-446a-f8b0-1ae3ee40b440"
      },
      "execution_count": null,
      "outputs": [
        {
          "output_type": "stream",
          "name": "stdout",
          "text": [
            "                     age    gender       bmi  no_of_children    smoker  \\\n",
            "age             1.000000 -0.026046  0.113048        0.037574 -0.023286   \n",
            "gender         -0.026046  1.000000  0.042924        0.016020  0.082326   \n",
            "bmi             0.113048  0.042924  1.000000       -0.001492  0.011489   \n",
            "no_of_children  0.037574  0.016020 -0.001492        1.000000  0.006362   \n",
            "smoker         -0.023286  0.082326  0.011489        0.006362  1.000000   \n",
            "region         -0.007167  0.022213  0.271119       -0.025717  0.054077   \n",
            "charges         0.298624  0.062837  0.199846        0.066442  0.788783   \n",
            "\n",
            "                  region   charges  \n",
            "age            -0.007167  0.298624  \n",
            "gender          0.022213  0.062837  \n",
            "bmi             0.271119  0.199846  \n",
            "no_of_children -0.025717  0.066442  \n",
            "smoker          0.054077  0.788783  \n",
            "region          1.000000  0.054058  \n",
            "charges         0.054058  1.000000  \n"
          ]
        }
      ]
    },
    {
      "cell_type": "markdown",
      "source": [
        "# **Model Development**\n",
        "\n",
        "- Fit a linear regression model that may be used to predict the `charges` value, just by using the `smoker` attribute of the dataset.\n",
        "- Printing the $ R^2 $ score of this model."
      ],
      "metadata": {
        "id": "vyI4wjUdVKIc"
      }
    },
    {
      "cell_type": "code",
      "source": [
        "X = df[['smoker']]\n",
        "Y = df['charges']\n",
        "lm = LinearRegression()\n",
        "lm.fit(X,Y)\n",
        "print(lm.score(X, Y))"
      ],
      "metadata": {
        "colab": {
          "base_uri": "https://localhost:8080/"
        },
        "id": "jdMJZ0CDVOZD",
        "outputId": "3e0553af-36a4-4c18-c17a-f2244ea1d6df"
      },
      "execution_count": null,
      "outputs": [
        {
          "output_type": "stream",
          "name": "stdout",
          "text": [
            "0.6221791733924185\n"
          ]
        }
      ]
    },
    {
      "cell_type": "markdown",
      "source": [
        "Fit a linear regression model that may be used to predict the `charges` value, just by using all other attributes of the dataset. Print the $ R^2 $ score of this model. You should see an improvement in the performance."
      ],
      "metadata": {
        "id": "tctMdm8DZBiu"
      }
    },
    {
      "cell_type": "code",
      "source": [
        "# definition of Y and lm remain same as used in last cell.\n",
        "Z = df[[\"age\", \"gender\", \"bmi\", \"no_of_children\", \"smoker\", \"region\"]]\n",
        "lm.fit(Z,Y)\n",
        "print(lm.score(Z, Y))"
      ],
      "metadata": {
        "colab": {
          "base_uri": "https://localhost:8080/"
        },
        "id": "VEVoTcjkVSMI",
        "outputId": "876529a8-0dee-49c9-8da3-062ace37b0d3"
      },
      "execution_count": null,
      "outputs": [
        {
          "output_type": "stream",
          "name": "stdout",
          "text": [
            "0.7504083820289634\n"
          ]
        }
      ]
    },
    {
      "cell_type": "markdown",
      "source": [
        "Creating a training pipeline that uses `StandardScaler()`, `PolynomialFeatures()` and `LinearRegression()` to create a model that can predict the `charges` value using all the other attributes of the dataset. There should be even further improvement in the performance."
      ],
      "metadata": {
        "id": "9rToshMOZPGp"
      }
    },
    {
      "cell_type": "code",
      "source": [
        "# Y and Z use the same values as defined in previous cells\n",
        "Input=[('scale',StandardScaler()), ('polynomial', PolynomialFeatures(include_bias=False)), ('model', LinearRegression())]\n",
        "pipe = Pipeline(Input)\n",
        "Z = Z.astype(float)\n",
        "pipe.fit(Z,Y)\n",
        "ypipe = pipe.predict(Z)\n",
        "print(r2_score(Y,ypipe))"
      ],
      "metadata": {
        "colab": {
          "base_uri": "https://localhost:8080/"
        },
        "id": "EbwQMRvaVSBY",
        "outputId": "d916f3df-154f-4be8-a147-7d571586bd59"
      },
      "execution_count": null,
      "outputs": [
        {
          "output_type": "stream",
          "name": "stdout",
          "text": [
            "0.8452483847008637\n"
          ]
        }
      ]
    },
    {
      "cell_type": "markdown",
      "source": [
        "# **Model Refinement**\n",
        "\n",
        "Split the data into training and testing subsets, assuming that 20% of the data will be reserved for testing."
      ],
      "metadata": {
        "id": "Ksxqc8fcVXGb"
      }
    },
    {
      "cell_type": "code",
      "source": [
        "# Z and Y hold same values as in previous cells\n",
        "x_train, x_test, y_train, y_test = train_test_split(Z, Y, test_size=0.2, random_state=1)"
      ],
      "metadata": {
        "id": "LXn1scv1VZHL"
      },
      "execution_count": null,
      "outputs": []
    },
    {
      "cell_type": "markdown",
      "source": [
        "Initialize a Ridge regressor that used hyperparameter $ \\alpha = 0.1 $. Fit the model using training data data subset. Print the $ R^2 $ score for the testing data."
      ],
      "metadata": {
        "id": "KdgJQmZoamXQ"
      }
    },
    {
      "cell_type": "code",
      "source": [
        "# x_train, x_test, y_train, y_test hold same values as in previous cells\n",
        "RidgeModel=Ridge(alpha=0.1)\n",
        "RidgeModel.fit(x_train, y_train)\n",
        "yhat = RidgeModel.predict(x_test)\n",
        "print(r2_score(y_test,yhat))"
      ],
      "metadata": {
        "colab": {
          "base_uri": "https://localhost:8080/"
        },
        "id": "_ZO8Ep3iVZAF",
        "outputId": "2e1f629d-7395-45f8-d5d8-dce1aebd143d"
      },
      "execution_count": null,
      "outputs": [
        {
          "output_type": "stream",
          "name": "stdout",
          "text": [
            "0.6760807731582404\n"
          ]
        }
      ]
    },
    {
      "cell_type": "markdown",
      "source": [
        "Apply polynomial transformation to the training parameters with degree=2. Use this transformed feature set to fit the same regression model, as above, using the training subset. Print the $ R^2 $ score for the testing subset."
      ],
      "metadata": {
        "id": "xgxTn7Oyar50"
      }
    },
    {
      "cell_type": "code",
      "source": [
        "# x_train, x_test, y_train, y_test hold same values as in previous cells\n",
        "pr = PolynomialFeatures(degree=2)\n",
        "x_train_pr = pr.fit_transform(x_train)\n",
        "x_test_pr = pr.fit_transform(x_test)\n",
        "RidgeModel.fit(x_train_pr, y_train)\n",
        "y_hat = RidgeModel.predict(x_test_pr)\n",
        "print(r2_score(y_test,y_hat))"
      ],
      "metadata": {
        "colab": {
          "base_uri": "https://localhost:8080/"
        },
        "id": "9p2nqpqaVY6r",
        "outputId": "4fbde64b-0d42-4188-aa7b-0bc6c62528e5"
      },
      "execution_count": null,
      "outputs": [
        {
          "output_type": "stream",
          "name": "stdout",
          "text": [
            "0.7835631107608152\n"
          ]
        }
      ]
    }
  ]
}